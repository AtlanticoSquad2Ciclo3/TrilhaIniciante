{
  "nbformat": 4,
  "nbformat_minor": 0,
  "metadata": {
    "colab": {
      "provenance": [],
      "collapsed_sections": [],
      "toc_visible": true,
      "include_colab_link": true
    },
    "kernelspec": {
      "name": "python3",
      "display_name": "Python 3"
    },
    "language_info": {
      "name": "python"
    }
  },
  "cells": [
    {
      "cell_type": "markdown",
      "metadata": {
        "id": "view-in-github",
        "colab_type": "text"
      },
      "source": [
        "<a href=\"https://colab.research.google.com/github/AtlanticoSquad2Ciclo3/TrilhaIniciante/blob/main/Apresenta%C3%A7%C3%A3o_Trilha_Inicial.ipynb\" target=\"_parent\"><img src=\"https://colab.research.google.com/assets/colab-badge.svg\" alt=\"Open In Colab\"/></a>"
      ]
    },
    {
      "cell_type": "code",
      "execution_count": null,
      "metadata": {
        "id": "iVX-QCXXOF_3"
      },
      "outputs": [],
      "source": [
        "from google.colab import drive\n",
        "drive.mount('/content/gdrive')\n",
        "\n",
        "%cd gdrive/My Drive/Atlantico Bootcamp\n",
        "\n",
        "! git clone https://github.com/luketxr/atlantico_academy"
      ]
    },
    {
      "cell_type": "markdown",
      "source": [
        "# Introdução"
      ],
      "metadata": {
        "id": "PfouO_osOVj0"
      }
    },
    {
      "cell_type": "markdown",
      "source": [
        "## Sobre o dataset\n"
      ],
      "metadata": {
        "id": "qISCijtu7D42"
      }
    },
    {
      "cell_type": "markdown",
      "source": [
        "O dataset"
      ],
      "metadata": {
        "id": "g853LHuyXJcW"
      }
    },
    {
      "cell_type": "markdown",
      "source": [
        "<!-- * Resumo do dataset (quantidade de imagens e classes);\n",
        "* Base de dados da pesquisa (ex: pubmed, ScienceDirect, googlescholar, ...);\n",
        "* Palavras-chaves para pesquisar os trabalhos (ex: lung nodule detector, weather images);\n",
        "* Se possível mostrar resultados (imagens) das referências bibliográficas utilizadas;\n",
        "\n",
        "Pré-processamento\n",
        "* Mostrar a imagem original e imagem alterada pelo processamento. Fazer isso para 3 exemplos em cada classe;\n",
        "\n",
        "Exemplo: \n",
        "\n",
        "\n",
        "\n",
        "| Classe | Pré-processamento |                 |\n",
        "|--------|-------------------|-----------------|\n",
        "|        | Original          | Nome da técnica |\n",
        "| Cloudy | cloudy54.jp       | cloudy54.jp     |\n",
        "| Rain   | cloudy54.jp       | cloudy54.jp     |\n",
        "| Shine  | cloudy54.jp       | cloudy54.jp     | -->"
      ],
      "metadata": {
        "id": "-aVrX7MAVuqN"
      }
    },
    {
      "cell_type": "markdown",
      "source": [
        "## Técnicas utilizadas\n"
      ],
      "metadata": {
        "id": "kECBsnnC9LKI"
      }
    },
    {
      "cell_type": "markdown",
      "source": [
        "# Ingestão dos dados"
      ],
      "metadata": {
        "id": "HF7TZ1-59ero"
      }
    },
    {
      "cell_type": "markdown",
      "source": [
        "# Pipeline 1 - Binarização rgb não supervisionada\n"
      ],
      "metadata": {
        "id": "mVA1QXOyENXl"
      }
    },
    {
      "cell_type": "markdown",
      "source": [
        "## Composição"
      ],
      "metadata": {
        "id": "SBIig1RbENXm"
      }
    },
    {
      "cell_type": "markdown",
      "source": [
        "## Fundamentação\n"
      ],
      "metadata": {
        "id": "tnfcJpT1ENXm"
      }
    },
    {
      "cell_type": "markdown",
      "source": [
        "\n",
        "*   Explicação da técnica\n",
        "*   Pq usar no dataset?\n",
        "\n"
      ],
      "metadata": {
        "id": "3VBT1gtiENXm"
      }
    },
    {
      "cell_type": "markdown",
      "source": [
        "## Resultados"
      ],
      "metadata": {
        "id": "dGM4NKObENXm"
      }
    },
    {
      "cell_type": "markdown",
      "source": [
        "Amostras de imagens"
      ],
      "metadata": {
        "id": "LTzkhoP6ENXm"
      }
    },
    {
      "cell_type": "markdown",
      "source": [
        "## Conclusão"
      ],
      "metadata": {
        "id": "Ks06tjyGENXm"
      }
    },
    {
      "cell_type": "markdown",
      "source": [
        "\n",
        "\n",
        "*   Pontos fortes\n",
        "*   Pontos fracos\n",
        "\n"
      ],
      "metadata": {
        "id": "M1UWJlAjENXm"
      }
    },
    {
      "cell_type": "markdown",
      "source": [
        "# Pipeline 2 - Delimitação com filtro bilateral\n"
      ],
      "metadata": {
        "id": "IbgqVdqybiGd"
      }
    },
    {
      "cell_type": "markdown",
      "source": [
        "## Composição"
      ],
      "metadata": {
        "id": "35JrbezEbiGd"
      }
    },
    {
      "cell_type": "markdown",
      "source": [
        "## Fundamentação\n"
      ],
      "metadata": {
        "id": "r3zByDbKbiGe"
      }
    },
    {
      "cell_type": "markdown",
      "source": [
        "\n",
        "*   Explicação da técnica\n",
        "*   Pq usar no dataset?\n",
        "\n"
      ],
      "metadata": {
        "id": "T9pyDBxmbiGe"
      }
    },
    {
      "cell_type": "markdown",
      "source": [
        "## Resultados"
      ],
      "metadata": {
        "id": "KaT-DyB9biGf"
      }
    },
    {
      "cell_type": "markdown",
      "source": [
        "Amostras de imagens"
      ],
      "metadata": {
        "id": "Td8ZrbJGbiGf"
      }
    },
    {
      "cell_type": "markdown",
      "source": [
        "## Conclusão"
      ],
      "metadata": {
        "id": "NVQ7dMn2biGg"
      }
    },
    {
      "cell_type": "markdown",
      "source": [
        "\n",
        "\n",
        "*   Pontos fortes\n",
        "*   Pontos fracos\n",
        "\n"
      ],
      "metadata": {
        "id": "4NN39mvebiGg"
      }
    },
    {
      "cell_type": "markdown",
      "source": [
        "# Pipeline 3 - Binarização grayscale"
      ],
      "metadata": {
        "id": "Fv-RX6Ai7cdT"
      }
    },
    {
      "cell_type": "markdown",
      "source": [
        "## Composição"
      ],
      "metadata": {
        "id": "TzVyWh5_OZUt"
      }
    },
    {
      "cell_type": "markdown",
      "source": [
        "## Fundamentação\n"
      ],
      "metadata": {
        "id": "0gQNWJODDaW6"
      }
    },
    {
      "cell_type": "markdown",
      "source": [
        "\n",
        "*   Explicação da téncica\n",
        "*   Pq usar no dataset?\n",
        "\n"
      ],
      "metadata": {
        "id": "ZvrfZBozDeeN"
      }
    },
    {
      "cell_type": "markdown",
      "source": [
        "## Resultados"
      ],
      "metadata": {
        "id": "1_jTrfGADnh-"
      }
    },
    {
      "cell_type": "markdown",
      "source": [
        "Amostras de imagens"
      ],
      "metadata": {
        "id": "DlUh8jAlD3RL"
      }
    },
    {
      "cell_type": "markdown",
      "source": [
        "## Conclusão"
      ],
      "metadata": {
        "id": "0t_EVRWnDqjv"
      }
    },
    {
      "cell_type": "markdown",
      "source": [
        "\n",
        "\n",
        "*   Pontos fortes\n",
        "*   Pontos fracos\n",
        "\n"
      ],
      "metadata": {
        "id": "kxUJUgCvD6lS"
      }
    },
    {
      "cell_type": "markdown",
      "source": [
        "# Pipeline 4 - Data augmentation"
      ],
      "metadata": {
        "id": "x6vSWs_ubs0A"
      }
    },
    {
      "cell_type": "markdown",
      "source": [
        "## Composição"
      ],
      "metadata": {
        "id": "9qtWfqewbs0B"
      }
    },
    {
      "cell_type": "markdown",
      "source": [
        "## Fundamentação\n"
      ],
      "metadata": {
        "id": "lDYqO2Q1bs0C"
      }
    },
    {
      "cell_type": "markdown",
      "source": [
        "\n",
        "*   Explicação da téncica\n",
        "*   Pq usar no dataset?\n",
        "\n"
      ],
      "metadata": {
        "id": "PBCoYB9-bs0D"
      }
    },
    {
      "cell_type": "markdown",
      "source": [
        "## Resultados"
      ],
      "metadata": {
        "id": "ZBXkeo_6bs0E"
      }
    },
    {
      "cell_type": "markdown",
      "source": [
        "Amostras de imagens"
      ],
      "metadata": {
        "id": "cGxsWIPjbs0E"
      }
    },
    {
      "cell_type": "markdown",
      "source": [
        "## Conclusão"
      ],
      "metadata": {
        "id": "q8vuw-gmbs0E"
      }
    },
    {
      "cell_type": "markdown",
      "source": [
        "\n",
        "\n",
        "*   Pontos fortes\n",
        "*   Pontos fracos\n",
        "\n"
      ],
      "metadata": {
        "id": "g7H_ym8Zbs0F"
      }
    },
    {
      "cell_type": "markdown",
      "source": [
        "# Conclusão"
      ],
      "metadata": {
        "id": "6EqfgsCaFQcv"
      }
    },
    {
      "cell_type": "markdown",
      "source": [
        "# Referências"
      ],
      "metadata": {
        "id": "RtpefuYeZACM"
      }
    }
  ]
}